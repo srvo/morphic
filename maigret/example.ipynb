{
  "nbformat": 4,
  "nbformat_minor": 0,
  "metadata": {
    "colab": {
      "provenance": []
    },
    "kernelspec": {
      "name": "python3",
      "display_name": "Python 3"
    },
    "language_info": {
      "name": "python"
    }
  },
  "cells": [
    {
      "cell_type": "code",
      "execution_count": null,
      "metadata": {
        "id": "acxNWJOUmLc4"
      },
      "outputs": [],
      "source": [
        "!git clone https://github.com/soxoj/maigret\n",
        "!pip3 install ./maigret/\n",
        "from IPython.display import clear_output\n",
        "clear_output()\n",
        "username = str(input(\"Username >> \"))\n",
        "!maigret {username} -a -n 10"
      ]
    },
    {
      "cell_type": "code",
      "source": [],
      "metadata": {
        "id": "S3SmapMHmOoD"
      },
      "execution_count": null,
      "outputs": []
    }
  ]
}
